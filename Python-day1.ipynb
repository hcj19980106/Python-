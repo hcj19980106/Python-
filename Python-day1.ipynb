{
 "cells": [
  {
   "cell_type": "markdown",
   "metadata": {},
   "source": [
    "# 主要内容\n",
    "- 坚持写blog\n",
    "- Jupiter notebook的用法\n",
    "- 变量\n",
    "- 跟vi/vim的编辑模式很相似"
   ]
  },
  {
   "cell_type": "code",
   "execution_count": 2,
   "metadata": {},
   "outputs": [
    {
     "name": "stdout",
     "output_type": "stream",
     "text": [
      "hello,world\n"
     ]
    }
   ],
   "source": [
    "print(\"hello,world\")"
   ]
  },
  {
   "cell_type": "code",
   "execution_count": 6,
   "metadata": {},
   "outputs": [
    {
     "name": "stdout",
     "output_type": "stream",
     "text": [
      "我爱钱\n"
     ]
    }
   ],
   "source": [
    "s = \"我爱钱\"\n",
    "print(s)"
   ]
  },
  {
   "cell_type": "code",
   "execution_count": 9,
   "metadata": {},
   "outputs": [
    {
     "name": "stdout",
     "output_type": "stream",
     "text": [
      "我爱钱\n",
      "我爱钱\n",
      "money\n"
     ]
    }
   ],
   "source": [
    "# 声明变量的三种格式\n",
    "# 格式1\n",
    "s1 = \"我爱钱\"\n",
    "print(s1)\n",
    "# 格式2 \n",
    "s1 = s2 = \"我爱钱\"\n",
    "print(s2)\n",
    "# 格式3\n",
    "s1, s2, s3 = \"我爱钱\",\"i love money\",\"money\"\n",
    "print(s3)"
   ]
  },
  {
   "cell_type": "markdown",
   "metadata": {},
   "source": [
    "# 变量类型\n",
    "- 严格意义上来讲，Python只有一个类型\n",
    "- 标准数据类型\n",
    "    - 数字number\n",
    "    - 字符串类型 str\n",
    "    - 列表 list\n",
    "    - 元组 tuple\n",
    "    - 字典 dictionary\n",
    "    - 集合 set"
   ]
  },
  {
   "cell_type": "markdown",
   "metadata": {},
   "source": [
    "# 数字类型number\n",
    "- Python中的数字没有大小限制\n",
    "# 常见数字分类\n",
    "- 整数\n",
    "    - 没有小数部分\n",
    "    - 包含正数，负数，0\n",
    "    - 二进制\n",
    "        - 只有0，1\n",
    "        - 以0b开头的01串\n",
    "        - 例如：\n",
    "            - 0b110\n",
    "            - 0b1110\n",
    "    - 八进制\n",
    "        - 以0o开头的 0到7之间的字符串\n",
    "        - 例如\n",
    "            -0o71\n",
    "    - 十六进制\n",
    "        - 以0x组成的由0-9，a-f构成的串\n",
    "        - 例如\n",
    "            - 0x77ff"
   ]
  },
  {
   "cell_type": "code",
   "execution_count": 24,
   "metadata": {},
   "outputs": [
    {
     "name": "stdout",
     "output_type": "stream",
     "text": [
      "4\n",
      "14\n"
     ]
    }
   ],
   "source": [
    "# 二进制案例\n",
    "a1 = 0b100\n",
    "print(a1)\n",
    "a2 = 0b1110\n",
    "print(a2)"
   ]
  },
  {
   "cell_type": "code",
   "execution_count": 23,
   "metadata": {},
   "outputs": [
    {
     "name": "stdout",
     "output_type": "stream",
     "text": [
      "57\n"
     ]
    }
   ],
   "source": [
    "# 八进制案例\n",
    "a3 = 0o71\n",
    "print(a3)"
   ]
  },
  {
   "cell_type": "code",
   "execution_count": 25,
   "metadata": {},
   "outputs": [
    {
     "name": "stdout",
     "output_type": "stream",
     "text": [
      "39423\n"
     ]
    }
   ],
   "source": [
    "# 十六进制案例\n",
    "a4 = 0x99ff\n",
    "print(a4)"
   ]
  },
  {
   "cell_type": "markdown",
   "metadata": {},
   "source": []
  }
 ],
 "metadata": {
  "kernelspec": {
   "display_name": "Python 3",
   "language": "python",
   "name": "python3"
  },
  "language_info": {
   "codemirror_mode": {
    "name": "ipython",
    "version": 3
   },
   "file_extension": ".py",
   "mimetype": "text/x-python",
   "name": "python",
   "nbconvert_exporter": "python",
   "pygments_lexer": "ipython3",
   "version": "3.7.3"
  }
 },
 "nbformat": 4,
 "nbformat_minor": 2
}
