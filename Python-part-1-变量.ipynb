{
 "cells": [
  {
   "cell_type": "markdown",
   "metadata": {},
   "source": [
    "# 变量\n",
    "## 什么是变量？\n",
    "变量就是可以改变的一个值，如：\n",
    ">x + y = 10\n",
    "\n",
    ">x = 5y = 10\n",
    "\n",
    ">x = 7y = ?\n",
    "    \n",
    "## 通俗的理解：\n",
    ">变量 = 生活中的容器<br>\n",
    "变量赋值操作 = 我们吧武平放入容器<br>\n",
    "数据类型 = 取决我们放入容器的物品种类\n",
    "\n",
    "## 变量命名规范\n",
    ">    1.可以使用英文，不推荐使用中文；<br>\n",
    "    2.可以使用数字，但是不能使用数字开头；<br>\n",
    "    3.不可以使用特殊符号，除了下划线；<br>\n",
    "    4.变量名严格区分大小写；<br>\n",
    "    5.变量的命名要有意义；<br>\n",
    "    6.不能和系统中的保留字关键字冲突。\n",
    "\n",
    "## 系统中保留字关键字：\n",
    "> ['False', 'None', 'True', 'and', 'as', 'assert', 'async', 'await', 'break', 'class', 'continue', 'def', 'del', 'elif', 'else', 'except', 'finally', 'for', 'from', 'global', 'if', 'import', 'in', 'is', 'lambda', 'nonlocal', 'not', 'or', 'pass', 'raise', 'return', 'try', 'while', 'with', 'yield']\n",
    "\n",
    "### 查看方式："
   ]
  },
  {
   "cell_type": "code",
   "execution_count": null,
   "metadata": {},
   "outputs": [],
   "source": [
    "import keyword #引入关键字模块\n",
    "print(keyword.kwlist)"
   ]
  },
  {
   "cell_type": "markdown",
   "metadata": {},
   "source": [
    "### 变量的声明方式"
   ]
  },
  {
   "cell_type": "code",
   "execution_count": null,
   "metadata": {},
   "outputs": [],
   "source": [
    "变量名 = 变量值 # 基本变量赋值\n",
    "a = 1\n",
    "\n",
    "变量a = 变量b = 变量c = 值1 # 多变量赋予相同值\n",
    "a = b = c = 1\n",
    "\n",
    "变量a,变量b,变量c = 值1,值2,值3 # 多变量赋予多个\n",
    "a,b,c = 1,2,3"
   ]
  },
  {
   "cell_type": "markdown",
   "metadata": {},
   "source": [
    "### python中变量值的互换"
   ]
  },
  {
   "cell_type": "code",
   "execution_count": null,
   "metadata": {},
   "outputs": [],
   "source": [
    "# 俩个变量交换值操作\n",
    "变量1，变量2 = 变量2，变量1\n",
    "\n",
    "a = 1\n",
    "b = 2\n",
    "a,b = b,a"
   ]
  },
  {
   "cell_type": "markdown",
   "metadata": {},
   "source": [
    "## 变量的三个常用操作\n",
    "- 1.获取变量的值——可之间通过变量名获取\n",
    "> 用法：变量名\n",
    "- 2.查看变量的数据类型，使用tpye()函数\n",
    "> 用法：type(变量名)\n",
    "- 3.获取变量在内存中的id标识，使用id()函数\n",
    "> 用法：id(变量名）"
   ]
  }
 ],
 "metadata": {
  "kernelspec": {
   "display_name": "Python 3",
   "language": "python",
   "name": "python3"
  },
  "language_info": {
   "codemirror_mode": {
    "name": "ipython",
    "version": 3
   },
   "file_extension": ".py",
   "mimetype": "text/x-python",
   "name": "python",
   "nbconvert_exporter": "python",
   "pygments_lexer": "ipython3",
   "version": "3.7.3"
  }
 },
 "nbformat": 4,
 "nbformat_minor": 2
}
